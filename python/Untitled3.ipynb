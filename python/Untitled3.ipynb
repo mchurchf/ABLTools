{
 "cells": [
  {
   "cell_type": "code",
   "execution_count": null,
   "id": "366bf58d",
   "metadata": {},
   "outputs": [],
   "source": [
    "# planarAverageTools.py\n",
    "#\n",
    "# Matt Churchfield\n",
    "# National Renewable Energy Laboratory\n",
    "# 31 July 2023\n",
    "#\n",
    "# This is a class that contains methods to compute deal with planar-averaged\n",
    "# data that comes out of ABL simulation.\n",
    "\n",
    "\n",
    "\n",
    "import numpy as np\n",
    "\n",
    "\n",
    "\n",
    "class planarAverageTools:\n",
    "    # initialize the class.\n",
    "    def __init__(self,field):\n",
    "        dimsMean = np.asarray(field.shape)\n",
    "        self.componentsMean = dimsMean[0]\n",
    "        self.componentsVariance = self.componentsMean**2\n",
    "        dimsVariance = 1*dimsMean\n",
    "        dimsVariance[0] = self.componentsVariance\n",
    "        \n",
    "        self.meanField = np.zeros(dimsMean)\n",
    "        self.varianceField = np.zeros(dimsVariance)\n",
    "        self.meanAccumulatedTime = 0.0\n",
    "        self.varianceAccumulatedTime = 0.0\n",
    "        \n",
    "        \n",
    "        \n",
    "    # accumulate the mean.\n",
    "    def accumulateMean(self,fieldUpdate,dt):\n",
    "        # take the current estimate of the mean, multiply by the previous \n",
    "        # total averaging time, add on the new contribution times its dt weight,\n",
    "        # add the dt weight to the total averaging time, and divide by the new\n",
    "        # total averaging time.\n",
    "        self.meanField = self.meanField * self.meanAccumulatedTime\n",
    "        self.meanField = self.meanField + (dt * fieldUpdate)\n",
    "        self.meanAccumulatedTime = self.meanAccumulatedTime + dt\n",
    "        self.meanField = self.meanField / self.meanAccumulatedTime"
   ]
  }
 ],
 "metadata": {
  "kernelspec": {
   "display_name": "Python 3 (ipykernel)",
   "language": "python",
   "name": "python3"
  },
  "language_info": {
   "codemirror_mode": {
    "name": "ipython",
    "version": 3
   },
   "file_extension": ".py",
   "mimetype": "text/x-python",
   "name": "python",
   "nbconvert_exporter": "python",
   "pygments_lexer": "ipython3",
   "version": "3.9.4"
  }
 },
 "nbformat": 4,
 "nbformat_minor": 5
}
