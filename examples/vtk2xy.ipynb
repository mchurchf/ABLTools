{
 "cells": [
  {
   "cell_type": "markdown",
   "metadata": {},
   "source": [
    "# Minimal working example to convert vtk files to xy files."
   ]
  },
  {
   "cell_type": "code",
   "execution_count": 1,
   "metadata": {
    "collapsed": false
   },
   "outputs": [],
   "source": [
    "# Load vtk tools\n",
    "import sys, os, glob\n",
    "codePath = os.path.abspath(os.path.join(os.curdir,'..','python'))\n",
    "if codePath not in sys.path:\n",
    "    sys.path.append(codePath)\n",
    "import vtkTools as vtk  \n",
    "import matplotlib.pyplot as plt"
   ]
  },
  {
   "cell_type": "code",
   "execution_count": 2,
   "metadata": {
    "collapsed": false
   },
   "outputs": [],
   "source": [
    "# Define all the paths\n",
    "curPath  = os.path.abspath(os.curdir)\n",
    "dataPath = os.path.join(curPath,'..','data')\n",
    "vtkPath  = os.path.join(dataPath,'vtk')\n",
    "exePath  = glob.glob(os.path.join(curPath,'..','fortran','of2fast'))[0]"
   ]
  },
  {
   "cell_type": "code",
   "execution_count": 3,
   "metadata": {
    "collapsed": false
   },
   "outputs": [
    {
     "name": "stdout",
     "output_type": "stream",
     "text": [
      "Converted /Users/pdoubraw/Documents/Repos/ABLTools/data/vtk/10200.000/array.1_U.vtk to /Users/pdoubraw/Documents/Repos/ABLTools/data/vtk/10200.000/array.1_U.xy\n",
      "Converted /Users/pdoubraw/Documents/Repos/ABLTools/data/vtk/10200.125/array.1_U.vtk to /Users/pdoubraw/Documents/Repos/ABLTools/data/vtk/10200.125/array.1_U.xy\n",
      "Converted /Users/pdoubraw/Documents/Repos/ABLTools/data/vtk/10200.250/array.1_U.vtk to /Users/pdoubraw/Documents/Repos/ABLTools/data/vtk/10200.250/array.1_U.xy\n",
      "Converted /Users/pdoubraw/Documents/Repos/ABLTools/data/vtk/10200.375/array.1_U.vtk to /Users/pdoubraw/Documents/Repos/ABLTools/data/vtk/10200.375/array.1_U.xy\n",
      "Converted /Users/pdoubraw/Documents/Repos/ABLTools/data/vtk/10200.500/array.1_U.vtk to /Users/pdoubraw/Documents/Repos/ABLTools/data/vtk/10200.500/array.1_U.xy\n"
     ]
    }
   ],
   "source": [
    "# Convert the example vtk files to a bts file\n",
    "vtk.vtk2xy(vtkPath, t0=10200, dt=0.125, nt=5, verbose=True)"
   ]
  }
 ],
 "metadata": {
  "kernelspec": {
   "display_name": "Python 2",
   "language": "python",
   "name": "python2"
  },
  "language_info": {
   "codemirror_mode": {
    "name": "ipython",
    "version": 2
   },
   "file_extension": ".py",
   "mimetype": "text/x-python",
   "name": "python",
   "nbconvert_exporter": "python",
   "pygments_lexer": "ipython2",
   "version": "2.7.13"
  }
 },
 "nbformat": 4,
 "nbformat_minor": 2
}
